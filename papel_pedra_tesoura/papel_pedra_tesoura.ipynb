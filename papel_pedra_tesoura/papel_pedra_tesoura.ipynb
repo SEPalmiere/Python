{
 "cells": [
  {
   "cell_type": "code",
   "execution_count": 1,
   "metadata": {},
   "outputs": [],
   "source": [
    "import random "
   ]
  },
  {
   "cell_type": "code",
   "execution_count": 21,
   "metadata": {},
   "outputs": [
    {
     "name": "stdout",
     "output_type": "stream",
     "text": [
      "Deseja jogar novamente? Digite S pra sim ou N para não! s\n",
      "Escolha 1 para papel, 2 para pedra ou 3 para tesoura: 2\n",
      "Jogador = Pedra\n",
      "Computador: Papel\n",
      "Eu venci! Papel vence Pedra! \n",
      "Deseja jogar novamente? Digite S pra sim ou N para não! s\n",
      "Escolha 1 para papel, 2 para pedra ou 3 para tesoura: 3\n",
      "Jogador = Tesoura\n",
      "Computador: Pedra\n",
      "Eu venci! Pedra vence Tesoura! \n",
      "Deseja jogar novamente? Digite S pra sim ou N para não! s\n",
      "Escolha 1 para papel, 2 para pedra ou 3 para tesoura: 1\n",
      "Jogador = Papel\n",
      "Computador: Pedra\n",
      "Voce venceu! Papel vence Pedra! \n",
      "Deseja jogar novamente? Digite S pra sim ou N para não! s\n",
      "Escolha 1 para papel, 2 para pedra ou 3 para tesoura: 1\n",
      "Jogador = Papel\n",
      "Computador: Tesoura\n",
      "Eu venci! Tesoura vence Papel! \n",
      "Deseja jogar novamente? Digite S pra sim ou N para não! s\n",
      "Escolha 1 para papel, 2 para pedra ou 3 para tesoura: 3\n",
      "Jogador = Tesoura\n",
      "Computador: Papel\n",
      "Voce venceu! Tesoura vence Papel! \n",
      "Deseja jogar novamente? Digite S pra sim ou N para não! s\n",
      "Escolha 1 para papel, 2 para pedra ou 3 para tesoura: 2\n",
      "Jogador = Pedra\n",
      "Computador: Tesoura\n",
      "Voce venceu! Pedra vence Tesoura! \n",
      "Deseja jogar novamente? Digite S pra sim ou N para não! n\n",
      "Tivemos um empate. Quer tentar de novo? \n"
     ]
    }
   ],
   "source": [
    "resp = True\n",
    "jogador = 0\n",
    "maquina = 0\n",
    "while resp == True:\n",
    "    opcao = 0\n",
    "    pergunta = input('Deseja jogar novamente? Digite S pra sim ou N para não! ').lower()\n",
    "    if pergunta == 'n':\n",
    "        resp = False\n",
    "        break\n",
    "    else:\n",
    "        while opcao != 1 and opcao !=2 and opcao !=3:\n",
    "            opcao = int(input('Escolha 1 para papel, 2 para pedra ou 3 para tesoura: '))\n",
    "        if opcao == 1:\n",
    "            print('Jogador = Papel')\n",
    "        elif opcao == 2:\n",
    "            print('Jogador = Pedra')\n",
    "        else:\n",
    "            print('Jogador = Tesoura')\n",
    "        n = random.randint(1,3)\n",
    "        if n == 1:\n",
    "            print('Computador: Papel')\n",
    "        elif n == 2:\n",
    "            print('Computador: Pedra')\n",
    "        else:\n",
    "            print('Computador: Tesoura')\n",
    "        if opcao == n:\n",
    "            print('Empate! ')\n",
    "        elif opcao == 1 and n == 2:\n",
    "            print('Voce venceu! Papel vence Pedra! ')\n",
    "            respo = 0\n",
    "        elif opcao == 1 and n == 3:\n",
    "            print('Eu venci! Tesoura vence Papel! ')\n",
    "            respo = 1\n",
    "        elif opcao == 2 and n == 3:\n",
    "            print('Voce venceu! Pedra vence Tesoura! ')\n",
    "            respo = 0\n",
    "        elif opcao == 2 and n == 1:\n",
    "            print('Eu venci! Papel vence Pedra! ')\n",
    "            respo = 1\n",
    "        elif opcao == 3 and n == 1:\n",
    "            print('Voce venceu! Tesoura vence Papel! ')\n",
    "            respo = 0\n",
    "        else:\n",
    "            print('Eu venci! Pedra vence Tesoura! ')\n",
    "            respo = 1 \n",
    "        if respo == 0:\n",
    "            jogador += 1\n",
    "        else:\n",
    "            maquina += 1\n",
    "if maquina > jogador:\n",
    "    print('Eu venci! Maquina: ' + str(maquina) + ' Jogador: ' + str(jogador))\n",
    "elif jogador  > maquina:\n",
    "    print('Parabens você venceu! maquina: ' + str(maquina) + ' Jogador: ' + str(jogador))\n",
    "else:\n",
    "    print('Tivemos um empate. Quer tentar de novo? ')    "
   ]
  },
  {
   "cell_type": "code",
   "execution_count": null,
   "metadata": {},
   "outputs": [],
   "source": []
  }
 ],
 "metadata": {
  "kernelspec": {
   "display_name": "Python 3",
   "language": "python",
   "name": "python3"
  },
  "language_info": {
   "codemirror_mode": {
    "name": "ipython",
    "version": 3
   },
   "file_extension": ".py",
   "mimetype": "text/x-python",
   "name": "python",
   "nbconvert_exporter": "python",
   "pygments_lexer": "ipython3",
   "version": "3.7.4"
  }
 },
 "nbformat": 4,
 "nbformat_minor": 4
}

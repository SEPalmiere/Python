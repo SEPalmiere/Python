{
 "cells": [
  {
   "cell_type": "code",
   "execution_count": null,
   "metadata": {},
   "outputs": [],
   "source": [
    "import random "
   ]
  },
  {
   "cell_type": "code",
   "execution_count": 1,
   "metadata": {},
   "outputs": [],
   "source": [
    "def play():\n",
    "        opcao = 0\n",
    "        while opcao != 1 and opcao !=2 and opcao !=3:\n",
    "            opcao = int(input('Escolha 1 para papel, 2 para pedra ou 3 para tesoura: '))\n",
    "            if opcao == 1:\n",
    "                print('Jogador = Papel')\n",
    "            elif opcao == 2:\n",
    "                print('Jogador = Pedra')\n",
    "            else:\n",
    "                print('Jogador = Tesoura')\n",
    "            return opcao"
   ]
  },
  {
   "cell_type": "code",
   "execution_count": null,
   "metadata": {},
   "outputs": [],
   "source": [
    " def comp_game(opcao):\n",
    "    n = random.randint(1,3)\n",
    "    if n == 1:\n",
    "            print('Computador: Papel')\n",
    "    elif n == 2:\n",
    "            print('Computador: Pedra')\n",
    "    else:\n",
    "            print('Computador: Tesoura')\n",
    "    if opcao == n:\n",
    "            print('Empate! ')\n",
    "            respo = 2\n",
    "    elif opcao == 1 and n == 2:\n",
    "            print('Voce venceu! Papel vence Pedra! ')\n",
    "            respo = 0\n",
    "    elif opcao == 1 and n == 3:\n",
    "            print('Eu venci! Tesoura vence Papel! ')\n",
    "            respo = 1\n",
    "    elif opcao == 2 and n == 3:\n",
    "            print('Voce venceu! Pedra vence Tesoura! ')\n",
    "            respo = 0\n",
    "    elif opcao == 2 and n == 1:\n",
    "            print('Eu venci! Papel vence Pedra! ')\n",
    "            respo = 1\n",
    "    elif opcao == 3 and n == 1:\n",
    "            print('Voce venceu! Tesoura vence Papel! ')\n",
    "            respo = 0\n",
    "    else:\n",
    "            print('Eu venci! Pedra vence Tesoura! ')\n",
    "            respo = 1\n",
    "    return respo"
   ]
  },
  {
   "cell_type": "code",
   "execution_count": null,
   "metadata": {},
   "outputs": [],
   "source": [
    "def total(jogador,maquina):\n",
    "    if maquina > jogador:\n",
    "        print('Eu venci! Maquina: ' + str(maquina) + ' Jogador: ' + str(jogador))\n",
    "    elif jogador  > maquina:\n",
    "        print('Parabens você venceu! maquina: ' + str(maquina) + ' Jogador: ' + str(jogador))\n",
    "    else:\n",
    "        print('Tivemos um empate. Quer tentar de novo? ')  "
   ]
  },
  {
   "cell_type": "code",
   "execution_count": null,
   "metadata": {},
   "outputs": [],
   "source": [
    "def main():\n",
    "    resp = True\n",
    "    jogador = 0\n",
    "    maquina = 0\n",
    "    while resp == True:\n",
    "        pergunta = input('Deseja jogar novamente? Digite S pra sim ou N para não! ').lower()\n",
    "        if pergunta == 'n':\n",
    "            resp = False\n",
    "        else:\n",
    "            option = play()\n",
    "            respo = comp_game(option)\n",
    "            if respo == 2:\n",
    "                jogador += 0\n",
    "                maquina += 0\n",
    "            elif respo == 0:\n",
    "                jogador += 1\n",
    "            else:\n",
    "                maquina += 1\n",
    "    jogador,maquina = (jogador, maquina)\n",
    "    total(jogador,maquina)"
   ]
  },
  {
   "cell_type": "code",
   "execution_count": null,
   "metadata": {},
   "outputs": [],
   "source": [
    "main()"
   ]
  }
 ],
 "metadata": {
  "kernelspec": {
   "display_name": "Python 3",
   "language": "python",
   "name": "python3"
  },
  "language_info": {
   "codemirror_mode": {
    "name": "ipython",
    "version": 3
   },
   "file_extension": ".py",
   "mimetype": "text/x-python",
   "name": "python",
   "nbconvert_exporter": "python",
   "pygments_lexer": "ipython3",
   "version": "3.7.4"
  }
 },
 "nbformat": 4,
 "nbformat_minor": 4
}
